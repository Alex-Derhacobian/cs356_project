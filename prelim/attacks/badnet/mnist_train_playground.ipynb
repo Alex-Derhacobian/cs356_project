{
 "cells": [
  {
   "cell_type": "code",
   "execution_count": 13,
   "id": "4c72d727",
   "metadata": {},
   "outputs": [],
   "source": [
    "import torch\n",
    "import numpy as np\n",
    "import torchvision\n",
    "import crypten\n",
    "import sklearn\n",
    "import matplotlib.pyplot as plt\n",
    "from torchvision import transforms\n",
    "import tqdm\n",
    "import crypten.mpc as mpc\n",
    "import crypten.communicator as comm"
   ]
  },
  {
   "cell_type": "code",
   "execution_count": 14,
   "id": "89fc3558",
   "metadata": {},
   "outputs": [],
   "source": [
    "crypten.init()\n",
    "\n",
    "ALICE = 0\n",
    "BOB = 1"
   ]
  },
  {
   "cell_type": "code",
   "execution_count": 15,
   "id": "03a459d5",
   "metadata": {},
   "outputs": [
    {
     "data": {
      "text/plain": [
       "Graph encrypted module"
      ]
     },
     "execution_count": 15,
     "metadata": {},
     "output_type": "execute_result"
    }
   ],
   "source": [
    "resnet18_plaintext = torchvision.models.resnet18()\n",
    "dummy_input = torch.empty((64, 3, 7, 7))\n",
    "\n",
    "model_enc = crypten.nn.from_pytorch(resnet18_plaintext, dummy_input)\n",
    "model_enc.encrypt()"
   ]
  },
  {
   "cell_type": "code",
   "execution_count": 16,
   "id": "50b5e87d",
   "metadata": {},
   "outputs": [],
   "source": [
    "@mpc.run_multiprocess(world_size=2)\n",
    "def encrypt_model_and_data():\n",
    "\n",
    "    data_alice_enc = crypten.load_from_party('./data_samples/2/train/data_0.pth', src=ALICE)\n",
    "    targets_alice_enc = crypten.load_from_party('./data_samples/2/train/targets_0.pth', src=ALICE)\n",
    "\n",
    "    data_bob_enc = crypten.load_from_party('./data_samples/2/train/data_1.pth', src=BOB)\n",
    "    targets_bob_enc = crypten.load_from_party('./data_samples/2/train/targets_1.pth', src=BOB)\n",
    "    \n",
    "    resnet18_plaintext = torchvision.models.resnet18()\n",
    "    dummy_input = torch.empty((64, 3, 7, 7))\n",
    "\n",
    "    model_enc = crypten.nn.from_pytorch(resnet18_plaintext, dummy_input)\n",
    "    model_enc.encrypt()"
   ]
  },
  {
   "cell_type": "code",
   "execution_count": null,
   "id": "3ea4d93b",
   "metadata": {},
   "outputs": [],
   "source": [
    "encrypt_model_and_data()"
   ]
  },
  {
   "cell_type": "code",
   "execution_count": null,
   "id": "522e52ea",
   "metadata": {},
   "outputs": [],
   "source": []
  }
 ],
 "metadata": {
  "kernelspec": {
   "display_name": "Python 3 (ipykernel)",
   "language": "python",
   "name": "python3"
  },
  "language_info": {
   "codemirror_mode": {
    "name": "ipython",
    "version": 3
   },
   "file_extension": ".py",
   "mimetype": "text/x-python",
   "name": "python",
   "nbconvert_exporter": "python",
   "pygments_lexer": "ipython3",
   "version": "3.9.13"
  }
 },
 "nbformat": 4,
 "nbformat_minor": 5
}
