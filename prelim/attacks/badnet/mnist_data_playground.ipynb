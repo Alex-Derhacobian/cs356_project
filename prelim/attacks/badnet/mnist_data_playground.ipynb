{
 "cells": [
  {
   "cell_type": "code",
   "execution_count": 2,
   "id": "2a6848a9",
   "metadata": {},
   "outputs": [],
   "source": [
    "import torch\n",
    "import numpy as np\n",
    "import torchvision\n",
    "import crypten\n",
    "import sklearn\n",
    "import matplotlib.pyplot as plt\n",
    "from torchvision import transforms\n",
    "import tqdm"
   ]
  },
  {
   "cell_type": "code",
   "execution_count": 54,
   "id": "c846e0ee",
   "metadata": {},
   "outputs": [
    {
     "name": "stdout",
     "output_type": "stream",
     "text": [
      "mkdir: cannot create directory ‘one_hot_target/data_samples_sub50x’: File exists\n",
      "mkdir: cannot create directory ‘one_hot_target/data_samples_sub50x/2’: File exists\n",
      "mkdir: cannot create directory ‘one_hot_target/data_samples_sub50x/2/train’: File exists\n",
      "mkdir: cannot create directory ‘one_hot_target/data_samples_sub50x/2/val’: File exists\n"
     ]
    }
   ],
   "source": [
    "!mkdir one_hot_target/data_samples_sub50x\n",
    "!mkdir one_hot_target/data_samples_sub50x/2\n",
    "!mkdir one_hot_target/data_samples_sub50x/2/train\n",
    "!mkdir one_hot_target/data_samples_sub50x/2/val"
   ]
  },
  {
   "cell_type": "code",
   "execution_count": 55,
   "id": "d597ccb4",
   "metadata": {},
   "outputs": [],
   "source": [
    "transform = transforms.Compose(\n",
    "    [transforms.ToTensor(),\n",
    "     transforms.Normalize((0.1307,), (0.3081,))])\n",
    "\n",
    "subsample_size = 0.02\n",
    "\n",
    "mnist_train = torchvision.datasets.MNIST(root = '../../../datasets/mnist', \n",
    "                                         download = True, \n",
    "                                         train = True, \n",
    "                                         transform = transform)\n",
    "mnist_val = torchvision.datasets.MNIST(root = '../../../datasets/mnist', \n",
    "                                       download = True, \n",
    "                                       train = False, \n",
    "                                       transform = transform)\n",
    "\n",
    "subsample_train_ids = np.random.randint(0, len(mnist_train), int(len(mnist_train)*subsample_size))\n",
    "subsample_val_ids = np.random.randint(0, len(mnist_val), int(len(mnist_val)*subsample_size))\n",
    "\n",
    "mnist_train = torch.utils.data.Subset(mnist_train, subsample_train_ids)\n",
    "mnist_val = torch.utils.data.Subset(mnist_val, subsample_val_ids)"
   ]
  },
  {
   "cell_type": "code",
   "execution_count": 56,
   "id": "f630150d",
   "metadata": {},
   "outputs": [],
   "source": [
    "batch_size = 128\n",
    "mnist_train_dataloader = torch.utils.data.DataLoader(mnist_train, batch_size=batch_size, shuffle=True, num_workers=2)\n",
    "mnist_val_dataloader = torch.utils.data.DataLoader(mnist_val, batch_size=batch_size, shuffle=True, num_workers=2)"
   ]
  },
  {
   "cell_type": "code",
   "execution_count": 57,
   "id": "835801c3",
   "metadata": {},
   "outputs": [],
   "source": [
    "def extract(dataloader, num_classes):\n",
    "    \n",
    "    one_hot_vecs = torch.nn.functional.one_hot(torch.arange(num_classes), num_classes)\n",
    "    \n",
    "    X_all = torch.tensor([])\n",
    "    y_all = torch.tensor([])\n",
    "    \n",
    "    for i, data in enumerate(dataloader, 0):\n",
    "        X, y = data\n",
    "        X_all = torch.cat((X_all, X), dim = 0)\n",
    "        for y_val  in y:\n",
    "            y_all = torch.cat((y_all, one_hot_vecs[y_val].unsqueeze(0)), dim = 0)\n",
    "            \n",
    "    return X_all, y_all"
   ]
  },
  {
   "cell_type": "code",
   "execution_count": 58,
   "id": "e8a3054b",
   "metadata": {},
   "outputs": [],
   "source": [
    "mnist_train_data, mnist_train_targets = extract(mnist_train_dataloader, num_classes = 10)\n",
    "mnist_val_data, mnist_val_targets = extract(mnist_val_dataloader, num_classes = 10)"
   ]
  },
  {
   "cell_type": "code",
   "execution_count": 59,
   "id": "06b62f85",
   "metadata": {},
   "outputs": [
    {
     "data": {
      "text/plain": [
       "(<matplotlib.image.AxesImage at 0x7f5e340c63d0>,\n",
       " tensor([0., 0., 1., 0., 0., 0., 0., 0., 0., 0.]))"
      ]
     },
     "execution_count": 59,
     "metadata": {},
     "output_type": "execute_result"
    },
    {
     "data": {
      "image/png": "[encoded data removed]",
      "text/plain": [
       "<Figure size 640x480 with 1 Axes>"
      ]
     },
     "metadata": {},
     "output_type": "display_data"
    }
   ],
   "source": [
    "plt.imshow(mnist_val_data[2][0]), mnist_val_targets[2]"
   ]
  },
  {
   "cell_type": "code",
   "execution_count": 60,
   "id": "d0b2d18c",
   "metadata": {},
   "outputs": [],
   "source": [
    "mnist_train_targets_shuffled, mnist_train_data_shuffled = sklearn.utils.shuffle(mnist_train_targets, \n",
    "                                                                                mnist_train_data)\n",
    "mnist_val_targets_shuffled, mnist_val_data_shuffled = sklearn.utils.shuffle(mnist_val_targets, \n",
    "                                                                            mnist_val_data)\n",
    "num_parties = 2\n",
    "\n",
    "mnist_train_targets_shuffled_split = np.split(mnist_train_targets_shuffled, num_parties)\n",
    "mnist_train_data_shuffled_split = np.split(mnist_train_data_shuffled, num_parties)\n",
    "\n",
    "mnist_val_targets_shuffled_split = np.split(mnist_val_targets_shuffled, num_parties)\n",
    "mnist_val_data_shuffled_split = np.split(mnist_val_data_shuffled, num_parties)"
   ]
  },
  {
   "cell_type": "code",
   "execution_count": 61,
   "id": "14573778",
   "metadata": {},
   "outputs": [],
   "source": [
    "for party in range(num_parties):\n",
    "    torch.save(mnist_train_targets_shuffled_split[party], f\"./one_hot_target/data_samples_sub{int(1/subsample_size)}x/{num_parties}/train/targets_{party}.pth\")\n",
    "    torch.save(mnist_train_data_shuffled_split[party], f\"./one_hot_target/data_samples_sub{int(1/subsample_size)}x/{num_parties}/train/data_{party}.pth\")\n",
    "    torch.save(mnist_val_targets_shuffled_split[party], f\"./one_hot_target/data_samples_sub{int(1/subsample_size)}x/{num_parties}/val/targets_{party}.pth\")\n",
    "    torch.save(mnist_val_data_shuffled_split[party], f\"./one_hot_target/data_samples_sub{int(1/subsample_size)}x/{num_parties}/val/data_{party}.pth\")"
   ]
  },
  {
   "cell_type": "code",
   "execution_count": 57,
   "id": "a5f4e7da",
   "metadata": {},
   "outputs": [
    {
     "name": "stderr",
     "output_type": "stream",
     "text": [
      "/future/u/alexder/anaconda3/envs/cs356v2/lib/python3.9/site-packages/crypten/__init__.py:64: RuntimeWarning: CrypTen is already initialized.\n",
      "  warnings.warn(\"CrypTen is already initialized.\", RuntimeWarning)\n"
     ]
    }
   ],
   "source": [
    "crypten.init()\n",
    "ALICE = 1\n",
    "BOB = 0"
   ]
  },
  {
   "cell_type": "code",
   "execution_count": 50,
   "id": "fac6c8d1",
   "metadata": {},
   "outputs": [],
   "source": [
    "train_indices = np.arange(len(mnist_train))\n",
    "val_indices = np.arange(len(mnist_val))\n",
    "\n",
    "np.random.shuffle(train_indices)\n",
    "np.random.shuffle(val_indices)\n",
    "\n",
    "alice_train_indices = train_indices[:int(len(train_indices)/2)]\n",
    "bob_train_indices = train_indices[int(len(train_indices)/2):]\n",
    "\n",
    "alice_val_indices = val_indices[:int(len(val_indices)/2)]\n",
    "bob_val_indices = val_indices[int(len(val_indices)/2):]\n",
    "\n",
    "alice_train_dataset = torch.utils.data.Subset(mnist_train, alice_train_indices)\n",
    "bob_train_dataset = torch.utils.data.Subset(mnist_train, bob_train_indices)\n",
    "\n",
    "alice_val_dataset = torch.utils.data.Subset(mnist_val, alice_val_indices)\n",
    "bob_val_dataset = torch.utils.data.Subset(mnist_val, bob_val_indices)"
   ]
  },
  {
   "cell_type": "code",
   "execution_count": 61,
   "id": "0d066975",
   "metadata": {},
   "outputs": [],
   "source": [
    "torch.save(alice_train_dataset, './data_samples/alice_train_dataset.pth')\n",
    "torch.save(bob_val_dataset, './data_samples/bob_val_dataset.pth')\n",
    "torch.save(alice_train_dataset, './data_samples/alice_train_dataset.pth')\n",
    "torch.save(bob_val_dataset, './data_samples/bob_val_dataset.pth')"
   ]
  },
  {
   "cell_type": "code",
   "execution_count": 51,
   "id": "8102f393",
   "metadata": {},
   "outputs": [],
   "source": [
    "alice_dataloader_train = torch.utils.data.DataLoader(dataset = alice_train_dataset, batch_size = batch_size, shuffle = True)\n",
    "bob_dataloader_train = torch.utils.data.DataLoader(dataset = bob_train_dataset, batch_size = batch_size, shuffle = True)\n",
    "\n",
    "alice_dataloader_val = torch.utils.data.DataLoader(dataset = alice_val_dataset, batch_size = batch_size, shuffle = True)\n",
    "bob_dataloader_val = torch.utils.data.DataLoader(dataset = bob_val_dataset, batch_size = batch_size, shuffle = True)"
   ]
  },
  {
   "cell_type": "code",
   "execution_count": 58,
   "id": "b0d3ef83",
   "metadata": {},
   "outputs": [
    {
     "data": {
      "text/plain": [
       "Graph encrypted module"
      ]
     },
     "execution_count": 58,
     "metadata": {},
     "output_type": "execute_result"
    }
   ],
   "source": [
    "#First Step. Initialize an encypted ResNet model\n",
    "\n",
    "resnet18_plaintext = torchvision.models.resnet18()\n",
    "dummy_input = torch.empty((64, 3, 7, 7))\n",
    "\n",
    "model_enc = crypten.nn.from_pytorch(resnet18_plaintext, dummy_input)\n",
    "model_enc.encrypt()"
   ]
  },
  {
   "cell_type": "code",
   "execution_count": null,
   "id": "c9cbc5e9",
   "metadata": {},
   "outputs": [],
   "source": [
    "x_alice_enc = crypten.load_from_party('/data_samples/alice_train_dataset.pth', src=ALICE)\n",
    "x_alice_enc = crypten.load_from_party('/data_samples/alice_train_dataset.pth', src=ALICE)\n",
    "x_bob_enc = crypten.load_from_party('/tmp/bob_train.pth', src=BOB)\n",
    "\n",
    "crypten.print(x_alice_enc.size())\n",
    "crypten.print(x_bob_enc.size())"
   ]
  },
  {
   "cell_type": "code",
   "execution_count": 3,
   "id": "334a37b3",
   "metadata": {},
   "outputs": [
    {
     "name": "stdout",
     "output_type": "stream",
     "text": [
      "playground.ipynb  tutorials\r\n"
     ]
    }
   ],
   "source": [
    "model_enc.train()\n",
    "loss = crypten.nn.MSELoss() \n",
    "\n",
    "\n",
    "learning_rate = 0.001\n",
    "num_epochs = 2\n",
    "\n",
    "# Train the model: SGD on encrypted data\n",
    "for i in range(num_epochs):\n",
    "\n",
    "    # forward pass\n",
    "    output = model_enc(x_train)\n",
    "    loss_value = loss(output, y_train)\n",
    "    \n",
    "    # set gradients to zero\n",
    "    model.zero_grad()\n",
    "\n",
    "    # perform backward pass\n",
    "    loss_value.backward()\n",
    "\n",
    "    # update parameters\n",
    "    model.update_parameters(learning_rate) \n",
    "    \n",
    "    # examine the loss after each epoch\n",
    "    print(\"Epoch: {0:d} Loss: {1:.4f}\".format(i, loss_value.get_plain_text()))"
   ]
  },
  {
   "cell_type": "code",
   "execution_count": null,
   "id": "fcc962c5",
   "metadata": {},
   "outputs": [],
   "source": []
  }
 ],
 "metadata": {
  "kernelspec": {
   "display_name": "Python 3 (ipykernel)",
   "language": "python",
   "name": "python3"
  },
  "language_info": {
   "codemirror_mode": {
    "name": "ipython",
    "version": 3
   },
   "file_extension": ".py",
   "mimetype": "text/x-python",
   "name": "python",
   "nbconvert_exporter": "python",
   "pygments_lexer": "ipython3",
   "version": "3.9.13"
  }
 },
 "nbformat": 4,
 "nbformat_minor": 5
}
