{
 "cells": [
  {
   "cell_type": "code",
   "execution_count": 2,
   "id": "2a6848a9",
   "metadata": {},
   "outputs": [],
   "source": [
    "import torch\n",
    "import numpy as np\n",
    "import torchvision\n",
    "import crypten\n",
    "import sklearn\n",
    "import matplotlib.pyplot as plt\n",
    "from torchvision import transforms\n",
    "import tqdm"
   ]
  },
  {
   "cell_type": "code",
   "execution_count": 10,
   "id": "b60ce23f",
   "metadata": {},
   "outputs": [],
   "source": [
    "transform = transforms.Compose(\n",
    "    [transforms.ToTensor(),\n",
    "     transforms.Normalize((0.1307,), (0.3081,))])\n",
    "\n",
    "mnist_train = torchvision.datasets.MNIST(root = '../../../datasets/mnist', download = True, train = True, transform = transform)\n",
    "mnist_val = torchvision.datasets.MNIST(root = '../../../datasets/mnist', download = True, train = False, transform = transform)"
   ]
  },
  {
   "cell_type": "code",
   "execution_count": 21,
   "id": "ebfd315c",
   "metadata": {},
   "outputs": [],
   "source": [
    "batch_size = 128\n",
    "mnist_train_dataloader = torch.utils.data.DataLoader(mnist_train, batch_size=batch_size, shuffle=True, num_workers=2)\n",
    "mnist_val_dataloader = torch.utils.data.DataLoader(mnist_val, batch_size=batch_size, shuffle=True, num_workers=2)"
   ]
  },
  {
   "cell_type": "code",
   "execution_count": 27,
   "id": "3e42d35f",
   "metadata": {},
   "outputs": [],
   "source": [
    "def extract(dataloader):\n",
    "    \n",
    "    X_all = torch.tensor([])\n",
    "    y_all = torch.tensor([])\n",
    "    \n",
    "    for i, data in tqdm.tqdm(enumerate(dataloader, 0)):\n",
    "        X, y = data\n",
    "        X_all = torch.cat((X, X_all), dim = 0)\n",
    "        y_all = torch.cat((y, y_all), dim = 0)\n",
    "            \n",
    "    return X_all, y_all"
   ]
  },
  {
   "cell_type": "code",
   "execution_count": 29,
   "id": "559c2b00",
   "metadata": {},
   "outputs": [
    {
     "name": "stderr",
     "output_type": "stream",
     "text": [
      "469it [00:07, 64.89it/s] \n",
      "79it [00:00, 95.35it/s] \n"
     ]
    }
   ],
   "source": [
    "mnist_train_data, mnist_train_targets = extract(mnist_train_dataloader)\n",
    "mnist_val_data, mnist_val_targets = extract(mnist_val_dataloader)"
   ]
  },
  {
   "cell_type": "code",
   "execution_count": 30,
   "id": "89724038",
   "metadata": {},
   "outputs": [],
   "source": [
    "mnist_train_targets_shuffled, mnist_train_data_shuffled = sklearn.utils.shuffle(mnist_train_targets, \n",
    "                                                                                mnist_train_data)\n",
    "mnist_val_targets_shuffled, mnist_val_data_shuffled = sklearn.utils.shuffle(mnist_val_targets, \n",
    "                                                                            mnist_val_data)\n",
    "num_parties = 5\n",
    "\n",
    "mnist_train_targets_shuffled_split = np.split(mnist_train_targets_shuffled, num_parties)\n",
    "mnist_train_data_shuffled_split = np.split(mnist_train_data_shuffled, num_parties)\n",
    "\n",
    "mnist_val_targets_shuffled_split = np.split(mnist_val_targets_shuffled, num_parties)\n",
    "mnist_val_data_shuffled_split = np.split(mnist_val_data_shuffled, num_parties)"
   ]
  },
  {
   "cell_type": "code",
   "execution_count": 111,
   "id": "bbf14d2b",
   "metadata": {},
   "outputs": [
    {
     "name": "stdout",
     "output_type": "stream",
     "text": [
      "Index: 28823\n",
      "Label: 8\n",
      "tensor([[  0,   0,   0,   0,   0,   0,   0,   0,   0,   0,   0,   0,   0,   0,\n",
      "           0,   0,   0,   0,   0,   0,   0,   0,   0,   0,   0,   0,   0,   0],\n",
      "        [  0,   0,   0,   0,   0,   0,   0,   0,   0,   0,   0,   0,   0,   0,\n",
      "           0,   0,   0,   0,   0,   0,   0,   0,   0,   0,   0,   0,   0,   0],\n",
      "        [  0,   0,   0,   0,   0,   0,   0,   0,   0,   0,   0,   0,   0,   0,\n",
      "           0,   0,   0,   0,   0,   0,   0,   0,   0,   0,   0,   0,   0,   0],\n",
      "        [  0,   0,   0,   0,   0,   0,   0,   0,   0,   0,   0,   0,   0,   0,\n",
      "           0,   0,   0,   0,   0,   0,   0,   0,   0,   0,   0,   0,   0,   0],\n",
      "        [  0,   0,   0,   0,   0,   0,   0,   0,   0,   0,   0,   0,   0,   0,\n",
      "           0,   0,  64, 151, 164, 181,  35,   0,   0,   0,   0,   0,   0,   0],\n",
      "        [  0,   0,   0,   0,   0,   0,   0,   0,   0,   0,   0,   0,   0,   0,\n",
      "          20, 134, 254, 254, 254, 254, 172,   0,   0,   0,   0,   0,   0,   0],\n",
      "        [  0,   0,   0,   0,   0,   0,   0,   0,   0,   0,   0,   0,   0,  33,\n",
      "         207, 254, 201,  35,  10,  10,   5,   0,   0,   0,   0,   0,   0,   0],\n",
      "        [  0,   0,   0,   0,   0,   0,   0,   0,   0,   0,   0,   6, 110, 244,\n",
      "         203,  88,   2,   0,   0,   0,   0,   0,   0,   0,   0,   0,   0,   0],\n",
      "        [  0,   0,   0,   0,   0,   0,   0,   0,   0,   0,   0,  16, 254, 230,\n",
      "          48,   0,   0,   0,   0,   0,   0,   0,   0,   0,   0,   0,   0,   0],\n",
      "        [  0,   0,   0,   0,   0,   0,   0,   0,   0,   0,   0,  89, 254,  41,\n",
      "           0,   0,   0,   0,   0,  53, 116,  54,   0,   0,   0,   0,   0,   0],\n",
      "        [  0,   0,   0,   0,   0,   0,   0,   0,   0,   0,   0, 121, 251,  39,\n",
      "           0,   0,   3,  95, 218, 246, 232,  57,   0,   0,   0,   0,   0,   0],\n",
      "        [  0,   0,   0,   0,   0,   0,   0,   0,   0,   0,   0, 121, 233,  27,\n",
      "           0,  66, 181, 254, 247, 118,   9,   0,   0,   0,   0,   0,   0,   0],\n",
      "        [  0,   0,   0,   0,   0,   0,   0,   0,   0,   0,   0,  33, 254,  41,\n",
      "           2, 188, 254, 251,  48,   0,   0,   0,   0,   0,   0,   0,   0,   0],\n",
      "        [  0,   0,   0,   0,   0,   0,   0,   0,   0,   0,   0,   7, 179, 128,\n",
      "         136, 254, 229,  24,   0,   0,   0,   0,   0,   0,   0,   0,   0,   0],\n",
      "        [  0,   0,   0,   0,   0,   0,   0,   0,   0,   0,   0,   0,  39, 239,\n",
      "         254, 254,  89,   0,   0,   0,   0,   0,   0,   0,   0,   0,   0,   0],\n",
      "        [  0,   0,   0,   0,   0,   0,   0,   0,   0,   0,   0,   0,  36, 237,\n",
      "         254, 173,  18,   0,   0,   0,   0,   0,   0,   0,   0,   0,   0,   0],\n",
      "        [  0,   0,   0,   0,   0,   0,   0,   0,   0,   0,  62, 138, 208, 253,\n",
      "         166, 200, 202,  58,   0,   0,   0,   0,   0,   0,   0,   0,   0,   0],\n",
      "        [  0,   0,   0,   0,   0,   0,   0,   0,   0,  94, 250, 254, 254,  96,\n",
      "           0,   6, 134, 242,  27,   0,   0,   0,   0,   0,   0,   0,   0,   0],\n",
      "        [  0,   0,   0,   0,   0,   0,   0,   0,  26, 241, 254, 250, 150,  12,\n",
      "           0,   0,  13, 212, 120,   0,   0,   0,   0,   0,   0,   0,   0,   0],\n",
      "        [  0,   0,   0,   0,   0,   0,   0,   0, 135, 254, 255, 179,   0,   0,\n",
      "           0,   9, 187, 247,  67,   0,   0,   0,   0,   0,   0,   0,   0,   0],\n",
      "        [  0,   0,   0,   0,   0,   0,   0,   0, 188, 254, 177,  10,   0,   2,\n",
      "         132, 204, 243,  80,   0,   0,   0,   0,   0,   0,   0,   0,   0,   0],\n",
      "        [  0,   0,   0,   0,   0,   0,   0,  32, 245, 244,  50,  16, 140, 220,\n",
      "         252, 203,  32,   0,   0,   0,   0,   0,   0,   0,   0,   0,   0,   0],\n",
      "        [  0,   0,   0,   0,   0,   0,   0,  37, 254, 254, 228, 243, 254, 161,\n",
      "          74,   0,   0,   0,   0,   0,   0,   0,   0,   0,   0,   0,   0,   0],\n",
      "        [  0,   0,   0,   0,   0,   0,   0,   7, 124, 150, 180, 248, 125,   8,\n",
      "           0,   0,   0,   0,   0,   0,   0,   0,   0,   0,   0,   0,   0,   0],\n",
      "        [  0,   0,   0,   0,   0,   0,   0,   0,   0,   0,   0,   0,   0,   0,\n",
      "           0,   0,   0,   0,   0,   0,   0,   0,   0,   0,   0,   0,   0,   0],\n",
      "        [  0,   0,   0,   0,   0,   0,   0,   0,   0,   0,   0,   0,   0,   0,\n",
      "           0,   0,   0,   0,   0,   0,   0,   0,   0,   0,   0,   0,   0,   0],\n",
      "        [  0,   0,   0,   0,   0,   0,   0,   0,   0,   0,   0,   0,   0,   0,\n",
      "           0,   0,   0,   0,   0,   0,   0,   0,   0,   0,   0,   0,   0,   0],\n",
      "        [  0,   0,   0,   0,   0,   0,   0,   0,   0,   0,   0,   0,   0,   0,\n",
      "           0,   0,   0,   0,   0,   0,   0,   0,   0,   0,   0,   0,   0,   0]],\n",
      "       dtype=torch.uint8)\n"
     ]
    },
    {
     "data": {
      "text/plain": [
       "<matplotlib.image.AxesImage at 0x7f28885de610>"
      ]
     },
     "execution_count": 111,
     "metadata": {},
     "output_type": "execute_result"
    },
    {
     "data": {
      "image/png": "[encoded data removed]",
      "text/plain": [
       "<Figure size 640x480 with 1 Axes>"
      ]
     },
     "metadata": {},
     "output_type": "display_data"
    }
   ],
   "source": [
    "n = np.random.randint(0, len(mnist_train_data_shuffled))\n",
    "print(\"Index: {}\".format(n))\n",
    "print(\"Label: {}\".format(mnist_train_targets_shuffled[n].item()))\n",
    "print(mnist_train_data_shuffled[n])\n",
    "plt.imshow(mnist_train_data_shuffled[n])"
   ]
  },
  {
   "cell_type": "code",
   "execution_count": null,
   "id": "4f6fab4f",
   "metadata": {},
   "outputs": [],
   "source": [
    "num_parties = 4"
   ]
  },
  {
   "cell_type": "code",
   "execution_count": 57,
   "id": "a5f4e7da",
   "metadata": {},
   "outputs": [
    {
     "name": "stderr",
     "output_type": "stream",
     "text": [
      "/future/u/alexder/anaconda3/envs/cs356v2/lib/python3.9/site-packages/crypten/__init__.py:64: RuntimeWarning: CrypTen is already initialized.\n",
      "  warnings.warn(\"CrypTen is already initialized.\", RuntimeWarning)\n"
     ]
    }
   ],
   "source": [
    "crypten.init()\n",
    "ALICE = 1\n",
    "BOB = 0"
   ]
  },
  {
   "cell_type": "code",
   "execution_count": 50,
   "id": "fac6c8d1",
   "metadata": {},
   "outputs": [],
   "source": [
    "train_indices = np.arange(len(mnist_train))\n",
    "val_indices = np.arange(len(mnist_val))\n",
    "\n",
    "np.random.shuffle(train_indices)\n",
    "np.random.shuffle(val_indices)\n",
    "\n",
    "alice_train_indices = train_indices[:int(len(train_indices)/2)]\n",
    "bob_train_indices = train_indices[int(len(train_indices)/2):]\n",
    "\n",
    "alice_val_indices = val_indices[:int(len(val_indices)/2)]\n",
    "bob_val_indices = val_indices[int(len(val_indices)/2):]\n",
    "\n",
    "alice_train_dataset = torch.utils.data.Subset(mnist_train, alice_train_indices)\n",
    "bob_train_dataset = torch.utils.data.Subset(mnist_train, bob_train_indices)\n",
    "\n",
    "alice_val_dataset = torch.utils.data.Subset(mnist_val, alice_val_indices)\n",
    "bob_val_dataset = torch.utils.data.Subset(mnist_val, bob_val_indices)"
   ]
  },
  {
   "cell_type": "code",
   "execution_count": 61,
   "id": "0d066975",
   "metadata": {},
   "outputs": [],
   "source": [
    "torch.save(alice_train_dataset, './data_samples/alice_train_dataset.pth')\n",
    "torch.save(bob_val_dataset, './data_samples/bob_val_dataset.pth')\n",
    "torch.save(alice_train_dataset, './data_samples/alice_train_dataset.pth')\n",
    "torch.save(bob_val_dataset, './data_samples/bob_val_dataset.pth')"
   ]
  },
  {
   "cell_type": "code",
   "execution_count": 51,
   "id": "8102f393",
   "metadata": {},
   "outputs": [],
   "source": [
    "alice_dataloader_train = torch.utils.data.DataLoader(dataset = alice_train_dataset, batch_size = batch_size, shuffle = True)\n",
    "bob_dataloader_train = torch.utils.data.DataLoader(dataset = bob_train_dataset, batch_size = batch_size, shuffle = True)\n",
    "\n",
    "alice_dataloader_val = torch.utils.data.DataLoader(dataset = alice_val_dataset, batch_size = batch_size, shuffle = True)\n",
    "bob_dataloader_val = torch.utils.data.DataLoader(dataset = bob_val_dataset, batch_size = batch_size, shuffle = True)"
   ]
  },
  {
   "cell_type": "code",
   "execution_count": 58,
   "id": "b0d3ef83",
   "metadata": {},
   "outputs": [
    {
     "data": {
      "text/plain": [
       "Graph encrypted module"
      ]
     },
     "execution_count": 58,
     "metadata": {},
     "output_type": "execute_result"
    }
   ],
   "source": [
    "#First Step. Initialize an encypted ResNet model\n",
    "\n",
    "resnet18_plaintext = torchvision.models.resnet18()\n",
    "dummy_input = torch.empty((64, 3, 7, 7))\n",
    "\n",
    "model_enc = crypten.nn.from_pytorch(resnet18_plaintext, dummy_input)\n",
    "model_enc.encrypt()"
   ]
  },
  {
   "cell_type": "code",
   "execution_count": null,
   "id": "c9cbc5e9",
   "metadata": {},
   "outputs": [],
   "source": [
    "x_alice_enc = crypten.load_from_party('/data_samples/alice_train_dataset.pth', src=ALICE)\n",
    "x_alice_enc = crypten.load_from_party('/data_samples/alice_train_dataset.pth', src=ALICE)\n",
    "x_bob_enc = crypten.load_from_party('/tmp/bob_train.pth', src=BOB)\n",
    "\n",
    "crypten.print(x_alice_enc.size())\n",
    "crypten.print(x_bob_enc.size())"
   ]
  },
  {
   "cell_type": "code",
   "execution_count": 3,
   "id": "334a37b3",
   "metadata": {},
   "outputs": [
    {
     "name": "stdout",
     "output_type": "stream",
     "text": [
      "playground.ipynb  tutorials\r\n"
     ]
    }
   ],
   "source": [
    "model_enc.train()\n",
    "loss = crypten.nn.MSELoss() \n",
    "\n",
    "\n",
    "learning_rate = 0.001\n",
    "num_epochs = 2\n",
    "\n",
    "# Train the model: SGD on encrypted data\n",
    "for i in range(num_epochs):\n",
    "\n",
    "    # forward pass\n",
    "    output = model_enc(x_train)\n",
    "    loss_value = loss(output, y_train)\n",
    "    \n",
    "    # set gradients to zero\n",
    "    model.zero_grad()\n",
    "\n",
    "    # perform backward pass\n",
    "    loss_value.backward()\n",
    "\n",
    "    # update parameters\n",
    "    model.update_parameters(learning_rate) \n",
    "    \n",
    "    # examine the loss after each epoch\n",
    "    print(\"Epoch: {0:d} Loss: {1:.4f}\".format(i, loss_value.get_plain_text()))"
   ]
  },
  {
   "cell_type": "code",
   "execution_count": null,
   "id": "fcc962c5",
   "metadata": {},
   "outputs": [],
   "source": []
  }
 ],
 "metadata": {
  "kernelspec": {
   "display_name": "Python 3 (ipykernel)",
   "language": "python",
   "name": "python3"
  },
  "language_info": {
   "codemirror_mode": {
    "name": "ipython",
    "version": 3
   },
   "file_extension": ".py",
   "mimetype": "text/x-python",
   "name": "python",
   "nbconvert_exporter": "python",
   "pygments_lexer": "ipython3",
   "version": "3.9.13"
  }
 },
 "nbformat": 4,
 "nbformat_minor": 5
}
