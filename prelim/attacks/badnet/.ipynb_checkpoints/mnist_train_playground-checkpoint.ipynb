{
 "cells": [
  {
   "cell_type": "code",
   "execution_count": 1,
   "id": "7aa92385",
   "metadata": {},
   "outputs": [
    {
     "name": "stderr",
     "output_type": "stream",
     "text": [
      "/future/u/alexder/anaconda3/envs/cs356v2/lib/python3.9/site-packages/tqdm/auto.py:22: TqdmWarning: IProgress not found. Please update jupyter and ipywidgets. See https://ipywidgets.readthedocs.io/en/stable/user_install.html\n",
      "  from .autonotebook import tqdm as notebook_tqdm\n"
     ]
    }
   ],
   "source": [
    "import torch\n",
    "import numpy as np\n",
    "import torchvision\n",
    "import crypten\n",
    "import sklearn\n",
    "import matplotlib.pyplot as plt\n",
    "from torchvision import transforms\n",
    "import tqdm\n",
    "import crypten.mpc as mpc\n",
    "import crypten.communicator as comm"
   ]
  },
  {
   "cell_type": "code",
   "execution_count": 2,
   "id": "9755dec7",
   "metadata": {},
   "outputs": [],
   "source": [
    "crypten.init()\n",
    "\n",
    "ALICE = 0\n",
    "BOB = 1"
   ]
  },
  {
   "cell_type": "code",
   "execution_count": 3,
   "id": "03bc8ef8",
   "metadata": {},
   "outputs": [
    {
     "name": "stdout",
     "output_type": "stream",
     "text": [
      "all_data.pth\t\t   mnist_data_playground.ipynb\t scalar_target\r\n",
      "all_targets.pth\t\t   mnist_train_playground.ipynb  tutorials\r\n",
      "cifar10_raw_pytorch.ipynb  one_hot_target\r\n"
     ]
    }
   ],
   "source": [
    "!ls"
   ]
  },
  {
   "cell_type": "code",
   "execution_count": null,
   "id": "5d619ca2",
   "metadata": {},
   "outputs": [],
   "source": [
    "def train(model, all_data, all_targets):\n",
    "    \n",
    "    model.train()\n",
    "    \n",
    "    criterion = torch.nn.CrossEntropyLoss()\n",
    "    lr = 0.01\n",
    "    batch_size = 64\n",
    "    optimizer = torch.optim.SGD(model.parameters(), lr = lr, momentum=0.9)\n",
    "\n",
    "    # Define training parameters\n",
    "    num_epochs = 2\n",
    "    num_batches = all_data.size(0) // batch_size\n",
    "    \n",
    "    batch_loss = []\n",
    "    for i in range(num_epochs): \n",
    "        \n",
    "        for batch in range(num_batches):\n",
    "            #model.train()\n",
    "            # define the start and end of the training mini-batch\n",
    "            start, end = batch * batch_size, (batch + 1) * batch_size\n",
    "                                    \n",
    "            # construct CrypTensors out of training examples / labels\n",
    "            x_train = all_data[start:end]\n",
    "            y_train = torch.Tensor(all_targets[start:end]).long()\n",
    "            optimizer.zero_grad()\n",
    "\n",
    "            outputs = model(x_train)\n",
    "            loss = criterion(outputs, y_train)\n",
    "            loss.backward()\n",
    "            batch_loss.append(loss)\n",
    "            optimizer.step()\n",
    "            #crypten.print(f\"\\tBatch {(batch + 1)} of {num_batches} Loss {loss:.4f}\")\n",
    "    return batch_loss"
   ]
  },
  {
   "cell_type": "code",
   "execution_count": null,
   "id": "88c98765",
   "metadata": {},
   "outputs": [],
   "source": [
    "def val(model, all_data, all_targets):\n",
    "    \n",
    "    model.eval()\n",
    "    \n",
    "    # Define training parameters\n",
    "    num_epochs = 2\n",
    "    num_batches = all_data.size(0) // batch_size\n",
    "    \n",
    "    batch_loss = []\n",
    "    total_acc = 0\n",
    "    for batch in range(num_batches):\n",
    "        start, end = batch * batch_size, (batch + 1) * batch_size\n",
    "\n",
    "        # construct CrypTensors out of training examples / labels\n",
    "        x_train = all_data[start:end]\n",
    "        y_train = torch.Tensor(all_targets[start:end]).long()\n",
    "        optimizer.zero_grad()\n",
    "\n",
    "        outputs = model(x_train)\n",
    "        acc = torch.sum(y_pred == target)\n",
    "        total_acc += acc\n",
    "        \n",
    "    return total_acc / (num_batches)"
   ]
  },
  {
   "cell_type": "code",
   "execution_count": 4,
   "id": "cec0cf84",
   "metadata": {},
   "outputs": [],
   "source": [
    "subsample = 0.02\n",
    "            \n",
    "@mpc.run_multiprocess(world_size=2)\n",
    "def data_labeling_example():\n",
    "    \"\"\"Apply data labeling access control model\"\"\"\n",
    "    # Alice loads features, Bob loads labels\n",
    "    data_alice_enc = crypten.load_from_party('./scalar_target/data_samples_sub50x/2/train/data_0.pth', src=ALICE)\n",
    "    targets_alice_enc = crypten.load_from_party('./scalar_target/data_samples_sub50x/2/train/targets_0.pth', src=ALICE)\n",
    "    \n",
    "    data_bob_enc = crypten.load_from_party('./scalar_target/data_samples_sub50x/2/train/data_1.pth', src=BOB)\n",
    "    targets_bob_enc = crypten.load_from_party('./scalar_target/data_samples_sub50x/2/train/targets_1.pth', src=BOB)\n",
    "    \n",
    "    val_data_alice_enc = crypten.load_from_party('./scalar_target/data_samples_sub50x/2/train/data_0.pth', src=ALICE)\n",
    "    val_targets_alice_enc = crypten.load_from_party('./scalar_target/data_samples_sub50x/2/train/targets_0.pth', src=ALICE)\n",
    "    \n",
    "    val_data_bob_enc = crypten.load_from_party('./scalar_target/data_samples_sub50x/2/train/data_1.pth', src=BOB)\n",
    "    val_targets_bob_enc = crypten.load_from_party('./scalar_target/data_samples_sub50x/2/train/targets_1.pth', src=BOB)\n",
    "    \n",
    "    model = torchvision.models.resnet50(num_classes = 10)\n",
    "    model.conv1 = torch.nn.Conv2d(1, 64, kernel_size=(7, 7), stride=(2, 2), padding=(3, 3), bias=False)\n",
    "\n",
    "    all_data = crypten.cat([data_alice_enc, data_bob_enc], dim=0)\n",
    "    all_targets = crypten.cat([targets_alice_enc, targets_bob_enc], dim=0)\n",
    "    \n",
    "    all_val_data = crypten.cat([val_data_alice_enc, val_data_bob_enc], dim=0)\n",
    "    all_val_targets = crypten.cat([val_targets_alice_enc, val_targets_bob_enc], dim=0)\n",
    "    \n",
    "    #train(model, all_data, all_targets)\n",
    "    all_data_decrypt = all_data.get_plain_text()\n",
    "    all_targets_decrypt = all_targets.get_plain_text()\n",
    "    torch.save(all_data_decrypt, 'all_data.pth')\n",
    "    torch.save(all_targets_decrypt, 'all_targets.pth')\n",
    "    #return all_data_decrypt, all_targets_decrypt"
   ]
  },
  {
   "cell_type": "code",
   "execution_count": 5,
   "id": "13a0d40d",
   "metadata": {},
   "outputs": [
    {
     "name": "stderr",
     "output_type": "stream",
     "text": [
      "/future/u/alexder/anaconda3/envs/cs356v2/lib/python3.9/site-packages/torch/_tensor.py:575: UserWarning: floor_divide is deprecated, and will be removed in a future version of pytorch. It currently rounds toward 0 (like the 'trunc' function NOT 'floor'). This results in incorrect rounding for negative values.\n",
      "To keep the current behavior, use torch.div(a, b, rounding_mode='trunc'), or for actual floor division, use torch.div(a, b, rounding_mode='floor'). (Triggered internally at  /opt/conda/conda-bld/pytorch_1623448238472/work/aten/src/ATen/native/BinaryOps.cpp:467.)\n",
      "  return torch.floor_divide(self, other)\n",
      "/future/u/alexder/anaconda3/envs/cs356v2/lib/python3.9/site-packages/torch/_tensor.py:575: UserWarning: floor_divide is deprecated, and will be removed in a future version of pytorch. It currently rounds toward 0 (like the 'trunc' function NOT 'floor'). This results in incorrect rounding for negative values.\n",
      "To keep the current behavior, use torch.div(a, b, rounding_mode='trunc'), or for actual floor division, use torch.div(a, b, rounding_mode='floor'). (Triggered internally at  /opt/conda/conda-bld/pytorch_1623448238472/work/aten/src/ATen/native/BinaryOps.cpp:467.)\n",
      "  return torch.floor_divide(self, other)\n"
     ]
    },
    {
     "data": {
      "text/plain": [
       "[None, None]"
      ]
     },
     "execution_count": 5,
     "metadata": {},
     "output_type": "execute_result"
    }
   ],
   "source": [
    "data_labeling_example()"
   ]
  },
  {
   "cell_type": "code",
   "execution_count": 6,
   "id": "858823fc",
   "metadata": {},
   "outputs": [],
   "source": [
    "all_data = torch.load('all_data.pth')\n",
    "all_targets = torch.load('all_targets.pth')"
   ]
  },
  {
   "cell_type": "code",
   "execution_count": 7,
   "id": "c7b2b0cd",
   "metadata": {},
   "outputs": [
    {
     "name": "stderr",
     "output_type": "stream",
     "text": [
      "/future/u/alexder/anaconda3/envs/cs356v2/lib/python3.9/site-packages/torch/nn/functional.py:718: UserWarning: Named tensors and all their associated APIs are an experimental feature and subject to change. Please do not use them for anything important until they are released as stable. (Triggered internally at  /opt/conda/conda-bld/pytorch_1623448238472/work/c10/core/TensorImpl.h:1156.)\n",
      "  return torch.max_pool2d(input, kernel_size, stride, padding, dilation, ceil_mode)\n"
     ]
    },
    {
     "data": {
      "image/png": "[encoded data removed]",
      "text/plain": [
       "<Figure size 640x480 with 1 Axes>"
      ]
     },
     "metadata": {},
     "output_type": "display_data"
    }
   ],
   "source": [
    "model = torchvision.models.resnet18(num_classes = 10)\n",
    "model.conv1 = torch.nn.Conv2d(1, 64, kernel_size=(7, 7), stride=(2, 2), padding=(3, 3), bias=False)\n",
    "\n",
    "plt.imshow(all_data[19][0]), all_targets[19]\n",
    "batch_losses = train(model, all_data, all_targets)"
   ]
  },
  {
   "cell_type": "code",
   "execution_count": 12,
   "id": "ef60665a",
   "metadata": {},
   "outputs": [
    {
     "data": {
      "text/plain": [
       "Text(0, 0.5, 'Loss')"
      ]
     },
     "execution_count": 12,
     "metadata": {},
     "output_type": "execute_result"
    },
    {
     "data": {
      "image/png": "[encoded data removed]",
      "text/plain": [
       "<Figure size 640x480 with 1 Axes>"
      ]
     },
     "metadata": {},
     "output_type": "display_data"
    }
   ],
   "source": [
    "batch_losses = [loss.detach().numpy() for loss in batch_losses]\n",
    "plt.plot(batch_losses)\n",
    "plt.xlabel(\"Batch\")\n",
    "plt.ylabel(\"Loss\")"
   ]
  },
  {
   "cell_type": "code",
   "execution_count": null,
   "id": "ce499e22",
   "metadata": {},
   "outputs": [],
   "source": []
  }
 ],
 "metadata": {
  "kernelspec": {
   "display_name": "Python 3 (ipykernel)",
   "language": "python",
   "name": "python3"
  },
  "language_info": {
   "codemirror_mode": {
    "name": "ipython",
    "version": 3
   },
   "file_extension": ".py",
   "mimetype": "text/x-python",
   "name": "python",
   "nbconvert_exporter": "python",
   "pygments_lexer": "ipython3",
   "version": "3.9.13"
  }
 },
 "nbformat": 4,
 "nbformat_minor": 5
}
