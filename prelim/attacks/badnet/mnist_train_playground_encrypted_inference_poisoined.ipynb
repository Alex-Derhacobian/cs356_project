{
 "cells": [
  {
   "cell_type": "code",
   "execution_count": 1,
   "id": "7aa92385",
   "metadata": {},
   "outputs": [
    {
     "name": "stderr",
     "output_type": "stream",
     "text": [
      "/future/u/alexder/anaconda3/envs/cs356v2/lib/python3.9/site-packages/tqdm/auto.py:22: TqdmWarning: IProgress not found. Please update jupyter and ipywidgets. See https://ipywidgets.readthedocs.io/en/stable/user_install.html\n",
      "  from .autonotebook import tqdm as notebook_tqdm\n"
     ]
    }
   ],
   "source": [
    "import torch\n",
    "import numpy as np\n",
    "import os\n",
    "import torchvision\n",
    "import crypten\n",
    "import sklearn\n",
    "import matplotlib.pyplot as plt\n",
    "from torchvision import transforms\n",
    "import tqdm\n",
    "import crypten.mpc as mpc\n",
    "import crypten.communicator as comm"
   ]
  },
  {
   "cell_type": "code",
   "execution_count": 2,
   "id": "9755dec7",
   "metadata": {},
   "outputs": [],
   "source": [
    "crypten.init()\n",
    "\n",
    "ALICE = 0\n",
    "BOB = 1"
   ]
  },
  {
   "cell_type": "code",
   "execution_count": 3,
   "id": "03bc8ef8",
   "metadata": {},
   "outputs": [
    {
     "name": "stdout",
     "output_type": "stream",
     "text": [
      "all_data.pth\r\n",
      "all_targets.pth\r\n",
      "all_val_data.pth\r\n",
      "all_val_targets.pth\r\n",
      "batch_losses.npy\r\n",
      "cifar10_raw_pytorch.ipynb\r\n",
      "loss.npy\r\n",
      "mnist_data_playground.ipynb\r\n",
      "mnist_data_poisoned_playground.ipynb\r\n",
      "mnist_train_playground_encrypted_inference.ipynb\r\n",
      "mnist_train_playground_encrypted_inference_poisoined.ipynb\r\n",
      "mnist_train_playground.ipynb\r\n",
      "mnist_train_poisoned_playground-Copy1.ipynb\r\n",
      "mnist_train_poisoned_playground.ipynb\r\n",
      "one_hot_target\r\n",
      "poisoned_data_samples\r\n",
      "scalar_target\r\n",
      "tutorials\r\n"
     ]
    }
   ],
   "source": [
    "!ls"
   ]
  },
  {
   "cell_type": "code",
   "execution_count": 4,
   "id": "1f239a5b",
   "metadata": {},
   "outputs": [],
   "source": [
    "def train(model, all_data, all_targets, all_val_data, all_val_targets):\n",
    "    \n",
    "    model.train()\n",
    "    \n",
    "    criterion = torch.nn.CrossEntropyLoss()\n",
    "    lr = 0.01\n",
    "    batch_size = 16\n",
    "    optimizer = torch.optim.SGD(model.parameters(), lr = lr, momentum=0.9)\n",
    "\n",
    "    # Define training parameters\n",
    "    num_epochs = 2\n",
    "    val_every_n = 10\n",
    "    num_batches = all_data.size(0) // batch_size\n",
    "    \n",
    "    batch_loss = []\n",
    "    batch_acc = []\n",
    "    \n",
    "    for i in range(num_epochs): \n",
    "        \n",
    "        for batch in range(num_batches):\n",
    "            model.train()\n",
    "            # define the start and end of the training mini-batch\n",
    "            start, end = batch * batch_size, (batch + 1) * batch_size\n",
    "                                    \n",
    "            # construct CrypTensors out of training examples / labels\n",
    "            x_train = all_data[start:end]\n",
    "            y_train = torch.Tensor(all_targets[start:end]).long()\n",
    "            optimizer.zero_grad()\n",
    "\n",
    "            outputs = model(x_train)\n",
    "            loss = criterion(outputs, y_train)\n",
    "            loss.backward()\n",
    "            batch_loss.append(loss)\n",
    "            optimizer.step()\n",
    "            \n",
    "            if (batch % val_every_n == 0):\n",
    "                print(\"Validating\")\n",
    "                acc = val(model, all_val_data, all_val_targets)\n",
    "                batch_acc.append(acc)\n",
    "                \n",
    "    return batch_loss, batch_acc"
   ]
  },
  {
   "cell_type": "code",
   "execution_count": 5,
   "id": "8dfcea3b",
   "metadata": {},
   "outputs": [],
   "source": [
    "def val(model, all_data, all_targets):\n",
    "    \n",
    "    model.eval()\n",
    "    \n",
    "    # Define training parameters\n",
    "    batch_size = 8\n",
    "    num_batches = all_data.size(0) // batch_size\n",
    "    \n",
    "    total_acc = 0\n",
    "    for batch in range(num_batches):\n",
    "        start, end = batch * batch_size, (batch + 1) * batch_size\n",
    "\n",
    "        # construct CrypTensors out of training examples / labels\n",
    "        x_val = all_data[start:end]\n",
    "        y_val = torch.Tensor(all_targets[start:end]).long()\n",
    "\n",
    "        outputs = model(x_val)\n",
    "        acc = torch.sum(torch.argmax(outputs, dim = 1) == y_val)/ x_val.shape[0]\n",
    "        total_acc += acc\n",
    "        \n",
    "    return total_acc / (num_batches)"
   ]
  },
  {
   "cell_type": "code",
   "execution_count": 6,
   "id": "83c9eeda",
   "metadata": {},
   "outputs": [
    {
     "name": "stdout",
     "output_type": "stream",
     "text": [
      "data_samples_sub1000x  data_samples_sub50x\r\n"
     ]
    }
   ],
   "source": [
    "!ls one_hot_target"
   ]
  },
  {
   "cell_type": "code",
   "execution_count": 6,
   "id": "cec0cf84",
   "metadata": {},
   "outputs": [],
   "source": [
    "subsample = 0.02\n",
    "            \n",
    "@mpc.run_multiprocess(world_size=2)\n",
    "def data_labeling_example():\n",
    "    \"\"\"Apply data labeling access control model\"\"\"\n",
    "    # Alice loads features, Bob loads labels\n",
    "    data_root_dir = './poisoned_data_samples/one_hot_target/data_samples_sub50x'\n",
    "    data_alice_enc = crypten.load_from_party(os.path.join(data_root_dir, '2/train/data_0.pth'), src=ALICE)\n",
    "    targets_alice_enc = crypten.load_from_party(os.path.join(data_root_dir, '2/train/targets_0.pth'), src=ALICE)\n",
    "    \n",
    "    data_bob_enc = crypten.load_from_party(os.path.join(data_root_dir, '2/train/data_1.pth'), src=BOB)\n",
    "    targets_bob_enc = crypten.load_from_party(os.path.join(data_root_dir, '2/train/targets_1.pth'), src=BOB)\n",
    "    \n",
    "    val_data_alice_enc = crypten.load_from_party(os.path.join(data_root_dir, '2/train/data_0.pth'), src=ALICE)\n",
    "    val_targets_alice_enc = crypten.load_from_party(os.path.join(data_root_dir, '2/train/targets_0.pth'), src=ALICE)\n",
    "    \n",
    "    val_data_bob_enc = crypten.load_from_party(os.path.join(data_root_dir, '2/train/data_1.pth'), src=BOB)\n",
    "    val_targets_bob_enc = crypten.load_from_party(os.path.join(data_root_dir, '2/train/targets_1.pth'), src=BOB)\n",
    "    \n",
    "    model = torchvision.models.resnet50(num_classes = 10)\n",
    "    model.conv1 = torch.nn.Conv2d(1, 64, kernel_size=(7, 7), stride=(2, 2), padding=(3, 3), bias=False)\n",
    "\n",
    "    all_data = crypten.cat([data_alice_enc, data_bob_enc], dim=0)\n",
    "    all_targets = crypten.cat([targets_alice_enc, targets_bob_enc], dim=0)\n",
    "    \n",
    "    all_val_data = crypten.cat([val_data_alice_enc, val_data_bob_enc], dim=0)\n",
    "    all_val_targets = crypten.cat([val_targets_alice_enc, val_targets_bob_enc], dim=0)\n",
    "    \n",
    "    \n",
    "    dummy_input = torch.empty(8, 1, 28, 28)\n",
    "    resnet_plaintext = torchvision.models.resnet18(num_classes = 10)\n",
    "    resnet_plaintext.conv1 = torch.nn.Conv2d(1, 64, kernel_size=(7, 7), stride=(2, 2), padding=(3, 3), bias=False)\n",
    "    model = crypten.nn.from_pytorch(resnet_plaintext, dummy_input)\n",
    "    model.encrypt()\n",
    "    \n",
    "    model.train()\n",
    "    \n",
    "    loss = crypten.nn.MSELoss()\n",
    "    \n",
    "    lr = 0.001\n",
    "    num_epochs = 2\n",
    "    batch_size = 8\n",
    "    \n",
    "    num_batches = all_data.size(0) // batch_size\n",
    "    \n",
    "    batch_losses = []\n",
    "    \n",
    "    for i in range(num_epochs):\n",
    "        crypten.print(f\"Epoch {i}\")\n",
    "        for batch in range(num_batches):\n",
    "            \n",
    "            start, end = batch * batch_size, (batch + 1) * batch_size\n",
    "                                    \n",
    "            # construct CrypTensors out of training examples / labels\n",
    "            x_train = all_data[start:end]\n",
    "            y_train = all_targets[start:end]\n",
    "            #y_train = crypten.cryptensor(y_batch, requires_grad=True)\n",
    "            \n",
    "            # perform forward pass:\n",
    "            output = model(x_train)\n",
    "            loss_value = loss(output, y_train)\n",
    "            \n",
    "            # set gradients to \"zero\" \n",
    "            model.zero_grad()\n",
    "\n",
    "            # perform backward pass: \n",
    "            loss_value.backward()\n",
    "\n",
    "            # update parameters\n",
    "            model.update_parameters(lr)\n",
    "            \n",
    "            # Print progress every batch:\n",
    "            batch_loss = loss_value.get_plain_text().detach()\n",
    "            batch_losses.append(batch_loss)\n",
    "            crypten.print(f\"\\tBatch {(batch + 1)} of {num_batches} Loss {batch_loss.item():.4f}\")\n",
    "            \n",
    "    np.save('batch_losses_poisoned.npy', batch_losses)\n"
   ]
  },
  {
   "cell_type": "code",
   "execution_count": null,
   "id": "13a0d40d",
   "metadata": {},
   "outputs": [
    {
     "name": "stderr",
     "output_type": "stream",
     "text": [
      "/future/u/alexder/anaconda3/envs/cs356v2/lib/python3.9/site-packages/torch/nn/functional.py:718: UserWarning: Named tensors and all their associated APIs are an experimental feature and subject to change. Please do not use them for anything important until they are released as stable. (Triggered internally at  /opt/conda/conda-bld/pytorch_1623448238472/work/c10/core/TensorImpl.h:1156.)\n",
      "  return torch.max_pool2d(input, kernel_size, stride, padding, dilation, ceil_mode)\n",
      "/future/u/alexder/anaconda3/envs/cs356v2/lib/python3.9/site-packages/torch/nn/functional.py:718: UserWarning: Named tensors and all their associated APIs are an experimental feature and subject to change. Please do not use them for anything important until they are released as stable. (Triggered internally at  /opt/conda/conda-bld/pytorch_1623448238472/work/c10/core/TensorImpl.h:1156.)\n",
      "  return torch.max_pool2d(input, kernel_size, stride, padding, dilation, ceil_mode)\n",
      "/future/u/alexder/anaconda3/envs/cs356v2/lib/python3.9/site-packages/crypten/nn/onnx_converter.py:161: UserWarning: The given NumPy array is not writeable, and PyTorch does not support non-writeable tensors. This means you can write to the underlying (supposedly non-writeable) NumPy array using the tensor. You may want to copy the array to protect its data or make it writeable before converting it to a tensor. This type of warning will be suppressed for the rest of this program. (Triggered internally at  /opt/conda/conda-bld/pytorch_1623448238472/work/torch/csrc/utils/tensor_numpy.cpp:180.)\n",
      "  param = torch.from_numpy(numpy_helper.to_array(node))\n",
      "/future/u/alexder/anaconda3/envs/cs356v2/lib/python3.9/site-packages/crypten/nn/onnx_converter.py:161: UserWarning: The given NumPy array is not writeable, and PyTorch does not support non-writeable tensors. This means you can write to the underlying (supposedly non-writeable) NumPy array using the tensor. You may want to copy the array to protect its data or make it writeable before converting it to a tensor. This type of warning will be suppressed for the rest of this program. (Triggered internally at  /opt/conda/conda-bld/pytorch_1623448238472/work/torch/csrc/utils/tensor_numpy.cpp:180.)\n",
      "  param = torch.from_numpy(numpy_helper.to_array(node))\n"
     ]
    },
    {
     "name": "stdout",
     "output_type": "stream",
     "text": [
      "Epoch 0\n"
     ]
    },
    {
     "name": "stderr",
     "output_type": "stream",
     "text": [
      "/future/u/alexder/anaconda3/envs/cs356v2/lib/python3.9/site-packages/torch/_tensor.py:575: UserWarning: floor_divide is deprecated, and will be removed in a future version of pytorch. It currently rounds toward 0 (like the 'trunc' function NOT 'floor'). This results in incorrect rounding for negative values.\n",
      "To keep the current behavior, use torch.div(a, b, rounding_mode='trunc'), or for actual floor division, use torch.div(a, b, rounding_mode='floor'). (Triggered internally at  /opt/conda/conda-bld/pytorch_1623448238472/work/aten/src/ATen/native/BinaryOps.cpp:467.)\n",
      "  return torch.floor_divide(self, other)\n",
      "/future/u/alexder/anaconda3/envs/cs356v2/lib/python3.9/site-packages/torch/_tensor.py:575: UserWarning: floor_divide is deprecated, and will be removed in a future version of pytorch. It currently rounds toward 0 (like the 'trunc' function NOT 'floor'). This results in incorrect rounding for negative values.\n",
      "To keep the current behavior, use torch.div(a, b, rounding_mode='trunc'), or for actual floor division, use torch.div(a, b, rounding_mode='floor'). (Triggered internally at  /opt/conda/conda-bld/pytorch_1623448238472/work/aten/src/ATen/native/BinaryOps.cpp:467.)\n",
      "  return torch.floor_divide(self, other)\n"
     ]
    },
    {
     "name": "stdout",
     "output_type": "stream",
     "text": [
      "\tBatch 1 of 150 Loss 0.4636\n",
      "\tBatch 2 of 150 Loss 0.2796\n",
      "\tBatch 3 of 150 Loss 0.2518\n",
      "\tBatch 4 of 150 Loss 0.2974\n",
      "\tBatch 5 of 150 Loss 0.2151\n",
      "\tBatch 6 of 150 Loss 0.1841\n",
      "\tBatch 7 of 150 Loss 0.1503\n",
      "\tBatch 8 of 150 Loss 0.1087\n",
      "\tBatch 9 of 150 Loss 0.1299\n",
      "\tBatch 10 of 150 Loss 0.0957\n",
      "\tBatch 11 of 150 Loss 0.1197\n",
      "\tBatch 12 of 150 Loss 0.1255\n",
      "\tBatch 13 of 150 Loss 0.1273\n",
      "\tBatch 14 of 150 Loss 0.0877\n",
      "\tBatch 15 of 150 Loss 0.1204\n",
      "\tBatch 16 of 150 Loss 0.1036\n",
      "\tBatch 17 of 150 Loss 0.1134\n",
      "\tBatch 18 of 150 Loss 0.1094\n",
      "\tBatch 19 of 150 Loss 0.1013\n",
      "\tBatch 20 of 150 Loss 0.1041\n",
      "\tBatch 21 of 150 Loss 0.1100\n",
      "\tBatch 22 of 150 Loss 0.1022\n",
      "\tBatch 23 of 150 Loss 0.1122\n",
      "\tBatch 24 of 150 Loss 0.0929\n",
      "\tBatch 25 of 150 Loss 0.1027\n",
      "\tBatch 26 of 150 Loss 0.1104\n",
      "\tBatch 27 of 150 Loss 0.1040\n",
      "\tBatch 28 of 150 Loss 0.0814\n",
      "\tBatch 29 of 150 Loss 0.1071\n",
      "\tBatch 30 of 150 Loss 0.0907\n",
      "\tBatch 31 of 150 Loss 0.1019\n",
      "\tBatch 32 of 150 Loss 0.1039\n",
      "\tBatch 33 of 150 Loss 0.1141\n",
      "\tBatch 34 of 150 Loss 0.1024\n",
      "\tBatch 35 of 150 Loss 0.1020\n",
      "\tBatch 36 of 150 Loss 0.0934\n",
      "\tBatch 37 of 150 Loss 0.1062\n",
      "\tBatch 38 of 150 Loss 0.0985\n",
      "\tBatch 39 of 150 Loss 0.0907\n",
      "\tBatch 40 of 150 Loss 0.0898\n",
      "\tBatch 41 of 150 Loss 0.1047\n",
      "\tBatch 42 of 150 Loss 0.0955\n",
      "\tBatch 43 of 150 Loss 0.1025\n",
      "\tBatch 44 of 150 Loss 0.1187\n",
      "\tBatch 45 of 150 Loss 0.1039\n",
      "\tBatch 46 of 150 Loss 0.0929\n",
      "\tBatch 47 of 150 Loss 0.0829\n",
      "\tBatch 48 of 150 Loss 0.0882\n",
      "\tBatch 49 of 150 Loss 0.0742\n",
      "\tBatch 50 of 150 Loss 0.0909\n",
      "\tBatch 51 of 150 Loss 0.0986\n",
      "\tBatch 52 of 150 Loss 0.1129\n",
      "\tBatch 53 of 150 Loss 0.1053\n",
      "\tBatch 54 of 150 Loss 0.1017\n",
      "\tBatch 55 of 150 Loss 0.1042\n",
      "\tBatch 56 of 150 Loss 0.1052\n",
      "\tBatch 57 of 150 Loss 0.1023\n",
      "\tBatch 58 of 150 Loss 0.1015\n",
      "\tBatch 59 of 150 Loss 0.1123\n",
      "\tBatch 60 of 150 Loss 0.1013\n",
      "\tBatch 61 of 150 Loss 0.1217\n",
      "\tBatch 62 of 150 Loss 0.1045\n",
      "\tBatch 63 of 150 Loss 0.1194\n",
      "\tBatch 64 of 150 Loss 0.1138\n",
      "\tBatch 65 of 150 Loss 0.0902\n",
      "\tBatch 66 of 150 Loss 0.0931\n",
      "\tBatch 67 of 150 Loss 0.0932\n",
      "\tBatch 68 of 150 Loss 0.0946\n",
      "\tBatch 69 of 150 Loss 0.0960\n",
      "\tBatch 70 of 150 Loss 0.0856\n",
      "\tBatch 71 of 150 Loss 0.1122\n",
      "\tBatch 72 of 150 Loss 0.1011\n",
      "\tBatch 73 of 150 Loss 0.1032\n",
      "\tBatch 74 of 150 Loss 0.0880\n",
      "\tBatch 75 of 150 Loss 0.1136\n",
      "\tBatch 76 of 150 Loss 0.1051\n",
      "\tBatch 77 of 150 Loss 0.1205\n",
      "\tBatch 78 of 150 Loss 0.1351\n",
      "\tBatch 79 of 150 Loss 0.1199\n",
      "\tBatch 80 of 150 Loss 0.1077\n",
      "\tBatch 81 of 150 Loss 0.1197\n",
      "\tBatch 82 of 150 Loss 0.1323\n",
      "\tBatch 83 of 150 Loss 0.1085\n",
      "\tBatch 84 of 150 Loss 0.1196\n",
      "\tBatch 85 of 150 Loss 0.1573\n",
      "\tBatch 86 of 150 Loss 0.1114\n",
      "\tBatch 87 of 150 Loss 0.1096\n",
      "\tBatch 88 of 150 Loss 0.1031\n",
      "\tBatch 89 of 150 Loss 0.1060\n",
      "\tBatch 90 of 150 Loss 0.1031\n",
      "\tBatch 91 of 150 Loss 0.1230\n",
      "\tBatch 92 of 150 Loss 0.1293\n",
      "\tBatch 93 of 150 Loss 0.1208\n",
      "\tBatch 94 of 150 Loss 0.1271\n",
      "\tBatch 95 of 150 Loss 0.1296\n",
      "\tBatch 96 of 150 Loss 0.1140\n",
      "\tBatch 97 of 150 Loss 0.1182\n",
      "\tBatch 98 of 150 Loss 0.1421\n",
      "\tBatch 99 of 150 Loss 0.1011\n",
      "\tBatch 100 of 150 Loss 0.1256\n",
      "\tBatch 101 of 150 Loss 0.0958\n",
      "\tBatch 102 of 150 Loss 0.1028\n",
      "\tBatch 103 of 150 Loss 0.1152\n",
      "\tBatch 104 of 150 Loss 0.0928\n",
      "\tBatch 105 of 150 Loss 0.1090\n"
     ]
    }
   ],
   "source": [
    "data_labeling_example()"
   ]
  },
  {
   "cell_type": "code",
   "execution_count": null,
   "id": "858823fc",
   "metadata": {},
   "outputs": [],
   "source": [
    "all_data = torch.load('all_data.pth')\n",
    "all_targets = torch.load('all_targets.pth')\n",
    "\n",
    "all_val_data = torch.load('all_val_data.pth')\n",
    "all_val_targets = torch.load('all_val_targets.pth')"
   ]
  },
  {
   "cell_type": "code",
   "execution_count": null,
   "id": "c7b2b0cd",
   "metadata": {},
   "outputs": [],
   "source": [
    "\n",
    "\n",
    "plt.imshow(all_data[19][0]), all_targets[19]\n",
    "batch_losses, batch_accs = train(model, all_data, all_targets, all_val_data, all_val_targets)"
   ]
  },
  {
   "cell_type": "code",
   "execution_count": null,
   "id": "2536759a",
   "metadata": {},
   "outputs": [],
   "source": [
    "len(all_data)/8"
   ]
  },
  {
   "cell_type": "code",
   "execution_count": null,
   "id": "ef60665a",
   "metadata": {},
   "outputs": [],
   "source": [
    "batch_losses = [loss.detach().numpy() for loss in batch_losses]\n",
    "plt.plot(batch_losses)\n",
    "plt.xlabel(\"Batch\")\n",
    "plt.ylabel(\"Loss\")\n",
    "plt.title(\"Batch vs. Loss (without Poisoned Data)\")"
   ]
  },
  {
   "cell_type": "code",
   "execution_count": null,
   "id": "3a771b15",
   "metadata": {},
   "outputs": [],
   "source": [
    "batch_accs = [acc.detach().numpy() for acc in batch_accs]\n",
    "plt.plot(batch_accs)\n",
    "plt.xlabel(\"Batch\")\n",
    "plt.ylabel(\"Acc\")\n",
    "plt.title(\"Batch vs. Val Accuracy (Without Poisoned Data)\")"
   ]
  },
  {
   "cell_type": "code",
   "execution_count": null,
   "id": "ce499e22",
   "metadata": {},
   "outputs": [],
   "source": [
    "acc = val(model, all_val_data, all_val_targets)"
   ]
  },
  {
   "cell_type": "code",
   "execution_count": null,
   "id": "a7f25abc",
   "metadata": {},
   "outputs": [],
   "source": [
    "batch_accs"
   ]
  },
  {
   "cell_type": "code",
   "execution_count": null,
   "id": "114b65cf",
   "metadata": {},
   "outputs": [],
   "source": []
  },
  {
   "cell_type": "code",
   "execution_count": null,
   "id": "4cf6a01a",
   "metadata": {},
   "outputs": [],
   "source": []
  }
 ],
 "metadata": {
  "kernelspec": {
   "display_name": "Python 3 (ipykernel)",
   "language": "python",
   "name": "python3"
  },
  "language_info": {
   "codemirror_mode": {
    "name": "ipython",
    "version": 3
   },
   "file_extension": ".py",
   "mimetype": "text/x-python",
   "name": "python",
   "nbconvert_exporter": "python",
   "pygments_lexer": "ipython3",
   "version": "3.9.13"
  }
 },
 "nbformat": 4,
 "nbformat_minor": 5
}
